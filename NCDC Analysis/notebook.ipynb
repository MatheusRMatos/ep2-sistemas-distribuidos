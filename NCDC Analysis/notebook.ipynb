{
 "cells": [
  {
   "cell_type": "code",
   "execution_count": null,
   "source": [
    "\r\n",
    "\r\n",
    "\r\n",
    "\r\n",
    "print(\"Script inicializado... \\n\")\r\n",
    "\r\n",
    "df = readSampleDate(spark)\r\n",
    "df = transformColumns(df)\r\n",
    "\r\n",
    "# df.printSchema()\r\n",
    "df.show(5)\r\n",
    "# print(\"O dataframe agora tem \",df.count(),\" linhas e \", len(df.columns), \"colunas. \\n\")\r\n",
    "df = transformData(df)\r\n",
    "df.show(5)\r\n",
    "'''\r\n",
    "print(\"Digite a coluna que deseja agrupar: \")\r\n",
    "campo = input()\r\n",
    "'''\r\n",
    "# print(df.filter(df[\"TEMP_ATTRIBUTES\"] == \"24\").show())\r\n",
    "# print(df.groupBy(campo).count().orderBy(\"count\", ascending=True).show())\r\n"
   ],
   "outputs": [],
   "metadata": {}
  },
  {
   "cell_type": "code",
   "execution_count": 59,
   "source": [
    "import findspark\r\n",
    "findspark.init() \r\n",
    "\r\n",
    "from pyspark.sql import SparkSession\r\n",
    "from pyspark.sql.functions import mean as _mean, stddev as _stddev, count as _count, col, variance as _variance\r\n",
    "from ETL.Extract import *\r\n",
    "from ETL.Transform import *\r\n",
    "import datetime"
   ],
   "outputs": [],
   "metadata": {}
  },
  {
   "cell_type": "code",
   "execution_count": 60,
   "source": [
    "spark = SparkSession \\\r\n",
    "    .builder \\\r\n",
    "    .appName(\"Ep 2\") \\\r\n",
    "    .getOrCreate()"
   ],
   "outputs": [],
   "metadata": {}
  },
  {
   "cell_type": "code",
   "execution_count": 61,
   "source": [
    "df = readSampleDate(spark)\r\n",
    "df = transformColumns(df)\r\n",
    "df = transformData(df)\r\n",
    "\r\n",
    "\r\n",
    "df.toPandas().columns"
   ],
   "outputs": [
    {
     "output_type": "execute_result",
     "data": {
      "text/plain": [
       "Index(['STATION', 'DATE', 'LATITUDE', 'LONGITUDE', 'ELEVATION', 'NAME', 'TEMP',\n",
       "       'TEMP_ATTRIBUTES', 'DEWP', 'DEWP_ATTRIBUTES', 'SLP', 'SLP_ATTRIBUTES',\n",
       "       'STP', 'STP_ATTRIBUTES', 'VISIB', 'VISIB_ATTRIBUTES', 'WDSP',\n",
       "       'WDSP_ATTRIBUTES', 'MXSPD', 'GUST', 'MAX', 'MAX_ATTRIBUTES', 'MIN',\n",
       "       'MIN_ATTRIBUTES', 'PRCP', 'PRCP_ATTRIBUTES', 'SNDP', 'FRSHTT'],\n",
       "      dtype='object')"
      ]
     },
     "metadata": {},
     "execution_count": 61
    }
   ],
   "metadata": {}
  },
  {
   "cell_type": "code",
   "execution_count": null,
   "source": [],
   "outputs": [],
   "metadata": {}
  },
  {
   "cell_type": "code",
   "execution_count": 62,
   "source": [
    "def mean(df, column_name, start_date, end_date):\r\n",
    "    return df.filter((col(\"DATE\") >= start_date) & \\\r\n",
    "                     (col(\"DATE\") <= end_date)) \\\r\n",
    "             .select(_mean(column_name).alias(f'{column_name}_MEAN'))"
   ],
   "outputs": [],
   "metadata": {}
  },
  {
   "cell_type": "code",
   "execution_count": 63,
   "source": [
    "def std(df, column_name, start_date, end_date):\r\n",
    "    return df.filter((col(\"DATE\") >= start_date) & \\\r\n",
    "                     (col(\"DATE\") <= end_date)) \\\r\n",
    "             .select(_stddev(column_name).alias(f'{column_name}_STD'))"
   ],
   "outputs": [],
   "metadata": {}
  },
  {
   "cell_type": "code",
   "execution_count": 64,
   "source": [
    "def variance(df, column_name, start_date, end_date):\r\n",
    "    return df.filter((col(\"DATE\") >= start_date) & \\\r\n",
    "                     (col(\"DATE\") <= end_date)) \\\r\n",
    "             .select(_variance(column_name).alias(f'{column_name}_VARIANCE'))"
   ],
   "outputs": [],
   "metadata": {}
  },
  {
   "cell_type": "code",
   "execution_count": 65,
   "source": [
    "variance(df, \"TEMP\", datetime.datetime(2018, 1, 1), datetime.datetime(2018, 2, 1)).show()"
   ],
   "outputs": [
    {
     "output_type": "stream",
     "name": "stdout",
     "text": [
      "+----------------+\n",
      "|   TEMP_VARIANCE|\n",
      "+----------------+\n",
      "|24.0115111827957|\n",
      "+----------------+\n",
      "\n"
     ]
    }
   ],
   "metadata": {}
  },
  {
   "cell_type": "code",
   "execution_count": null,
   "source": [],
   "outputs": [],
   "metadata": {}
  }
 ],
 "metadata": {
  "orig_nbformat": 4,
  "language_info": {
   "name": "python"
  }
 },
 "nbformat": 4,
 "nbformat_minor": 2
}