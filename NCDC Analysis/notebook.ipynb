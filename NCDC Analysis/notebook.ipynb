{
 "cells": [
  {
   "cell_type": "code",
   "execution_count": null,
   "source": [
    "import findspark\r\n",
    "findspark.init() "
   ],
   "outputs": [],
   "metadata": {}
  },
  {
   "cell_type": "code",
   "execution_count": 51,
   "source": [
    "\r\n",
    "from pyspark.sql import SparkSession\r\n",
    "from pyspark.sql.functions import mean as _mean, stddev as _stddev, count as _count, col, variance as _variance\r\n",
    "from pyspark.sql import  functions as F\r\n",
    "from ETL.Extract import *\r\n",
    "from ETL.Transform import *\r\n",
    "from matplotlib import pyplot as plt\r\n",
    "import datetime"
   ],
   "outputs": [],
   "metadata": {}
  },
  {
   "cell_type": "code",
   "execution_count": 25,
   "source": [
    "spark = SparkSession \\\r\n",
    "    .builder \\\r\n",
    "    .appName(\"Ep 2\") \\\r\n",
    "    .getOrCreate()"
   ],
   "outputs": [],
   "metadata": {}
  },
  {
   "cell_type": "code",
   "execution_count": 26,
   "source": [
    "df = spark.read.option(\"header\", True).csv([ f\"assets/raw/{x}/*.csv\" for x in [1971, 1972] ])\r\n",
    "df = transformColumns(df)\r\n",
    "df = transformData(df)\r\n",
    "\r\n",
    "\r\n",
    "df.toPandas().columns"
   ],
   "outputs": [
    {
     "output_type": "execute_result",
     "data": {
      "text/plain": [
       "Index(['STATION', 'DATE', 'LATITUDE', 'LONGITUDE', 'ELEVATION', 'NAME', 'TEMP',\n",
       "       'TEMP_ATTRIBUTES', 'DEWP', 'DEWP_ATTRIBUTES', 'SLP', 'SLP_ATTRIBUTES',\n",
       "       'STP', 'STP_ATTRIBUTES', 'VISIB', 'VISIB_ATTRIBUTES', 'WDSP',\n",
       "       'WDSP_ATTRIBUTES', 'MXSPD', 'GUST', 'MAX', 'MAX_ATTRIBUTES', 'MIN',\n",
       "       'MIN_ATTRIBUTES', 'PRCP', 'PRCP_ATTRIBUTES', 'SNDP', 'FRSHTT'],\n",
       "      dtype='object')"
      ]
     },
     "metadata": {},
     "execution_count": 26
    }
   ],
   "metadata": {}
  },
  {
   "cell_type": "code",
   "execution_count": null,
   "source": [],
   "outputs": [],
   "metadata": {}
  },
  {
   "cell_type": "code",
   "execution_count": 27,
   "source": [
    "def mean(df, column_name, start_date, end_date):\r\n",
    "    return df.filter((col(\"DATE\") >= start_date) & \\\r\n",
    "                     (col(\"DATE\") <= end_date)) \\\r\n",
    "             .select(_mean(column_name).alias(f'{column_name}_MEAN'))"
   ],
   "outputs": [],
   "metadata": {}
  },
  {
   "cell_type": "code",
   "execution_count": 28,
   "source": [
    "def std(df, column_name, start_date, end_date):\r\n",
    "    return df.filter((col(\"DATE\") >= start_date) & \\\r\n",
    "                     (col(\"DATE\") <= end_date)) \\\r\n",
    "             .select(_stddev(column_name).alias(f'{column_name}_STD'))"
   ],
   "outputs": [],
   "metadata": {}
  },
  {
   "cell_type": "code",
   "execution_count": 29,
   "source": [
    "def variance(df, column_name, start_date, end_date):\r\n",
    "    return df.filter((col(\"DATE\") >= start_date) & \\\r\n",
    "                     (col(\"DATE\") <= end_date)) \\\r\n",
    "             .select(_variance(column_name).alias(f'{column_name}_VARIANCE'))"
   ],
   "outputs": [],
   "metadata": {}
  },
  {
   "cell_type": "code",
   "execution_count": 30,
   "source": [
    "def median(df, column_name, start_date, end_date):\r\n",
    "    df = df.filter((col(\"DATE\") >= start_date) & \\\r\n",
    "                     (col(\"DATE\") <= end_date)) \\\r\n",
    "           .approxQuantile(column_name, [0.5],0.01)\r\n",
    "    return df[0]"
   ],
   "outputs": [],
   "metadata": {}
  },
  {
   "cell_type": "code",
   "execution_count": 31,
   "source": [
    "mean(df, \"TEMP\", datetime.datetime(2018, 1, 1), datetime.datetime(2018, 2, 1)).first().asDict()[\"TEMP_MEAN\"]\r\n"
   ],
   "outputs": [],
   "metadata": {}
  },
  {
   "cell_type": "code",
   "execution_count": 32,
   "source": [
    "median(df, \"TEMP\", datetime.datetime(2018, 1, 1), datetime.datetime(2018, 2, 1))"
   ],
   "outputs": [
    {
     "output_type": "error",
     "ename": "IndexError",
     "evalue": "list index out of range",
     "traceback": [
      "\u001b[1;31m---------------------------------------------------------------------------\u001b[0m",
      "\u001b[1;31mIndexError\u001b[0m                                Traceback (most recent call last)",
      "\u001b[1;32m<ipython-input-32-9b196cc002c8>\u001b[0m in \u001b[0;36m<module>\u001b[1;34m\u001b[0m\n\u001b[1;32m----> 1\u001b[1;33m \u001b[0mmedian\u001b[0m\u001b[1;33m(\u001b[0m\u001b[0mdf\u001b[0m\u001b[1;33m,\u001b[0m \u001b[1;34m\"TEMP\"\u001b[0m\u001b[1;33m,\u001b[0m \u001b[0mdatetime\u001b[0m\u001b[1;33m.\u001b[0m\u001b[0mdatetime\u001b[0m\u001b[1;33m(\u001b[0m\u001b[1;36m2018\u001b[0m\u001b[1;33m,\u001b[0m \u001b[1;36m1\u001b[0m\u001b[1;33m,\u001b[0m \u001b[1;36m1\u001b[0m\u001b[1;33m)\u001b[0m\u001b[1;33m,\u001b[0m \u001b[0mdatetime\u001b[0m\u001b[1;33m.\u001b[0m\u001b[0mdatetime\u001b[0m\u001b[1;33m(\u001b[0m\u001b[1;36m2018\u001b[0m\u001b[1;33m,\u001b[0m \u001b[1;36m2\u001b[0m\u001b[1;33m,\u001b[0m \u001b[1;36m1\u001b[0m\u001b[1;33m)\u001b[0m\u001b[1;33m)\u001b[0m\u001b[1;33m\u001b[0m\u001b[1;33m\u001b[0m\u001b[0m\n\u001b[0m",
      "\u001b[1;32m<ipython-input-30-92b4cce1685b>\u001b[0m in \u001b[0;36mmedian\u001b[1;34m(df, column_name, start_date, end_date)\u001b[0m\n\u001b[0;32m      3\u001b[0m                      (col(\"DATE\") <= end_date)) \\\n\u001b[0;32m      4\u001b[0m            \u001b[1;33m.\u001b[0m\u001b[0mapproxQuantile\u001b[0m\u001b[1;33m(\u001b[0m\u001b[0mcolumn_name\u001b[0m\u001b[1;33m,\u001b[0m \u001b[1;33m[\u001b[0m\u001b[1;36m0.5\u001b[0m\u001b[1;33m]\u001b[0m\u001b[1;33m,\u001b[0m\u001b[1;36m0.01\u001b[0m\u001b[1;33m)\u001b[0m\u001b[1;33m\u001b[0m\u001b[1;33m\u001b[0m\u001b[0m\n\u001b[1;32m----> 5\u001b[1;33m     \u001b[1;32mreturn\u001b[0m \u001b[0mdf\u001b[0m\u001b[1;33m[\u001b[0m\u001b[1;36m0\u001b[0m\u001b[1;33m]\u001b[0m\u001b[1;33m\u001b[0m\u001b[1;33m\u001b[0m\u001b[0m\n\u001b[0m",
      "\u001b[1;31mIndexError\u001b[0m: list index out of range"
     ]
    }
   ],
   "metadata": {}
  },
  {
   "cell_type": "code",
   "execution_count": null,
   "source": [
    "print(\"Bem vindo! \")"
   ],
   "outputs": [
    {
     "output_type": "stream",
     "name": "stdout",
     "text": [
      "Bem vindo! \n"
     ]
    }
   ],
   "metadata": {}
  },
  {
   "cell_type": "code",
   "execution_count": null,
   "source": [
    "import os"
   ],
   "outputs": [],
   "metadata": {}
  },
  {
   "cell_type": "code",
   "execution_count": null,
   "source": [
    "from matplotlib import pyplot as plt"
   ],
   "outputs": [],
   "metadata": {}
  },
  {
   "cell_type": "code",
   "execution_count": null,
   "source": [],
   "outputs": [
    {
     "output_type": "display_data",
     "data": {
      "text/plain": [
       "<Figure size 432x288 with 1 Axes>"
      ],
      "image/png": "[encoded data removed]"
     },
     "metadata": {
      "needs_background": "light"
     }
    }
   ],
   "metadata": {}
  },
  {
   "cell_type": "code",
   "execution_count": null,
   "source": [
    "\r\n",
    "res"
   ],
   "outputs": [
    {
     "output_type": "execute_result",
     "data": {
      "text/plain": [
       "    Date   TEMP_AVG\n",
       "0      1   1.161290\n",
       "1      2  -1.257857\n",
       "2      3   5.985806\n",
       "3      4   8.847667\n",
       "4      5  16.001935\n",
       "5      6  22.721333\n",
       "6      7  23.581935\n",
       "7      8  22.091613\n",
       "8      9  19.566333\n",
       "9     10   9.257742\n",
       "10    11   3.158667\n",
       "11    12   0.087742"
      ],
      "text/html": [
       "<div>\n",
       "<style scoped>\n",
       "    .dataframe tbody tr th:only-of-type {\n",
       "        vertical-align: middle;\n",
       "    }\n",
       "\n",
       "    .dataframe tbody tr th {\n",
       "        vertical-align: top;\n",
       "    }\n",
       "\n",
       "    .dataframe thead th {\n",
       "        text-align: right;\n",
       "    }\n",
       "</style>\n",
       "<table border=\"1\" class=\"dataframe\">\n",
       "  <thead>\n",
       "    <tr style=\"text-align: right;\">\n",
       "      <th></th>\n",
       "      <th>Date</th>\n",
       "      <th>TEMP_AVG</th>\n",
       "    </tr>\n",
       "  </thead>\n",
       "  <tbody>\n",
       "    <tr>\n",
       "      <th>0</th>\n",
       "      <td>1</td>\n",
       "      <td>1.161290</td>\n",
       "    </tr>\n",
       "    <tr>\n",
       "      <th>1</th>\n",
       "      <td>2</td>\n",
       "      <td>-1.257857</td>\n",
       "    </tr>\n",
       "    <tr>\n",
       "      <th>2</th>\n",
       "      <td>3</td>\n",
       "      <td>5.985806</td>\n",
       "    </tr>\n",
       "    <tr>\n",
       "      <th>3</th>\n",
       "      <td>4</td>\n",
       "      <td>8.847667</td>\n",
       "    </tr>\n",
       "    <tr>\n",
       "      <th>4</th>\n",
       "      <td>5</td>\n",
       "      <td>16.001935</td>\n",
       "    </tr>\n",
       "    <tr>\n",
       "      <th>5</th>\n",
       "      <td>6</td>\n",
       "      <td>22.721333</td>\n",
       "    </tr>\n",
       "    <tr>\n",
       "      <th>6</th>\n",
       "      <td>7</td>\n",
       "      <td>23.581935</td>\n",
       "    </tr>\n",
       "    <tr>\n",
       "      <th>7</th>\n",
       "      <td>8</td>\n",
       "      <td>22.091613</td>\n",
       "    </tr>\n",
       "    <tr>\n",
       "      <th>8</th>\n",
       "      <td>9</td>\n",
       "      <td>19.566333</td>\n",
       "    </tr>\n",
       "    <tr>\n",
       "      <th>9</th>\n",
       "      <td>10</td>\n",
       "      <td>9.257742</td>\n",
       "    </tr>\n",
       "    <tr>\n",
       "      <th>10</th>\n",
       "      <td>11</td>\n",
       "      <td>3.158667</td>\n",
       "    </tr>\n",
       "    <tr>\n",
       "      <th>11</th>\n",
       "      <td>12</td>\n",
       "      <td>0.087742</td>\n",
       "    </tr>\n",
       "  </tbody>\n",
       "</table>\n",
       "</div>"
      ]
     },
     "metadata": {},
     "execution_count": 64
    }
   ],
   "metadata": {}
  },
  {
   "cell_type": "code",
   "execution_count": null,
   "source": [
    "fig, ax = plt.subplots()\r\n",
    "# ax.scatter(res[\"TEMP_AVG\"], res[\"TEMP_AVG\"])"
   ],
   "outputs": [
    {
     "output_type": "error",
     "ename": "NameError",
     "evalue": "name 'plt' is not defined",
     "traceback": [
      "\u001b[1;31m---------------------------------------------------------------------------\u001b[0m",
      "\u001b[1;31mNameError\u001b[0m                                 Traceback (most recent call last)",
      "\u001b[1;32m<ipython-input-18-453c0e54b6f3>\u001b[0m in \u001b[0;36m<module>\u001b[1;34m\u001b[0m\n\u001b[1;32m----> 1\u001b[1;33m \u001b[0mfig\u001b[0m\u001b[1;33m,\u001b[0m \u001b[0max\u001b[0m \u001b[1;33m=\u001b[0m \u001b[0mplt\u001b[0m\u001b[1;33m.\u001b[0m\u001b[0msubplots\u001b[0m\u001b[1;33m(\u001b[0m\u001b[1;33m)\u001b[0m\u001b[1;33m\u001b[0m\u001b[1;33m\u001b[0m\u001b[0m\n\u001b[0m\u001b[0;32m      2\u001b[0m \u001b[1;31m# ax.scatter(res[\"TEMP_AVG\"], res[\"TEMP_AVG\"])\u001b[0m\u001b[1;33m\u001b[0m\u001b[1;33m\u001b[0m\u001b[1;33m\u001b[0m\u001b[0m\n",
      "\u001b[1;31mNameError\u001b[0m: name 'plt' is not defined"
     ]
    }
   ],
   "metadata": {}
  },
  {
   "cell_type": "code",
   "execution_count": 36,
   "source": [
    "def mean2(df, x_column_name, y_column_name, start_date, end_date):\r\n",
    "    return df.filter((col(\"DATE\") >= start_date) & \\\r\n",
    "                     (col(\"DATE\") <= end_date)) \\\r\n",
    "             .select(x_column_name, y_column_name)"
   ],
   "outputs": [],
   "metadata": {}
  },
  {
   "cell_type": "code",
   "execution_count": 41,
   "source": [
    "mmq = mean2(df, \"TEMP\", \"SLP\" ,datetime.datetime(1971, 1, 1), datetime.datetime(1971, 5, 1)).toPandas()"
   ],
   "outputs": [],
   "metadata": {}
  },
  {
   "cell_type": "code",
   "execution_count": 42,
   "source": [
    "from sklearn.linear_model import LinearRegression\r\n"
   ],
   "outputs": [],
   "metadata": {}
  },
  {
   "cell_type": "code",
   "execution_count": 43,
   "source": [
    "model = LinearRegression()\r\n",
    "model.fit(mmq[[\"TEMP\"]], mmq[[\"SLP\"]])"
   ],
   "outputs": [
    {
     "output_type": "execute_result",
     "data": {
      "text/plain": [
       "LinearRegression()"
      ]
     },
     "metadata": {},
     "execution_count": 43
    }
   ],
   "metadata": {}
  },
  {
   "cell_type": "code",
   "execution_count": 44,
   "source": [
    "a = model.intercept_\r\n",
    "b = model.coef_"
   ],
   "outputs": [],
   "metadata": {}
  },
  {
   "cell_type": "code",
   "execution_count": 46,
   "source": [
    "b[0, 0]"
   ],
   "outputs": [
    {
     "output_type": "execute_result",
     "data": {
      "text/plain": [
       "44.87232962170354"
      ]
     },
     "metadata": {},
     "execution_count": 46
    }
   ],
   "metadata": {}
  },
  {
   "cell_type": "code",
   "execution_count": 47,
   "source": [
    "a[0]"
   ],
   "outputs": [
    {
     "output_type": "execute_result",
     "data": {
      "text/plain": [
       "1064.7561650545886"
      ]
     },
     "metadata": {},
     "execution_count": 47
    }
   ],
   "metadata": {}
  },
  {
   "cell_type": "code",
   "execution_count": 52,
   "source": [
    "func = lambda x : a[0] + b[0]*x \r\n",
    "func_string = f\"f(x) = {a[0]} + {b[0,0]}*x\"\r\n",
    "plt.plot(mmq[[\"TEMP\"]], func(mmq[[\"TEMP\"]]), c='red')\r\n",
    "plt.scatter(mmq[[\"TEMP\"]], mmq[[\"SLP\"]])"
   ],
   "outputs": [
    {
     "output_type": "execute_result",
     "data": {
      "text/plain": [
       "<matplotlib.collections.PathCollection at 0x25f161e5448>"
      ]
     },
     "metadata": {},
     "execution_count": 52
    },
    {
     "output_type": "display_data",
     "data": {
      "text/plain": [
       "<Figure size 432x288 with 1 Axes>"
      ],
      "image/png": "[encoded data removed]"
     },
     "metadata": {
      "needs_background": "light"
     }
    }
   ],
   "metadata": {}
  },
  {
   "cell_type": "code",
   "execution_count": 58,
   "source": [
    "def handle_mmq():\r\n",
    "    data_frame = df\r\n",
    "\r\n",
    "    start_date, end_date = datetime.datetime(1971, 1, 1), datetime.datetime(1971, 10, 1)\r\n",
    "\r\n",
    "    x_column_name = \"TEMP\"\r\n",
    "    y_column_name = \"SLP\"\r\n",
    "\r\n",
    "    print(\"Carregando dados...\")\r\n",
    "\r\n",
    "    data = data_frame.filter((col(\"DATE\") >= start_date) & \\\r\n",
    "                             (col(\"DATE\") <= end_date)) \\\r\n",
    "                     .select(x_column_name, y_column_name).toPandas()\r\n",
    "\r\n",
    "    print(\"Treinando modelo...\")\r\n",
    "\r\n",
    "    model = LinearRegression()\r\n",
    "    model.fit(data[[x_column_name]], data[[y_column_name]])\r\n",
    "\r\n",
    "    a = model.intercept_[0]\r\n",
    "    b = model.coef_\r\n",
    "\r\n",
    "    print(\"Treinamento finalizado...\")\r\n",
    "\r\n",
    "    print(f\"O valor do intecept (a) é {a}\")\r\n",
    "    print(f\"O valor do coeficiente (b) é {b[0, 0]}\")\r\n",
    "    function = lambda x : a + b*x\r\n",
    "    print(f\"A fórmula para a regressão linear para x: {x_column_name} e y: {y_column_name} é f(x)={a} + {b[0, 0]}*x\")       \r\n",
    "    \r\n",
    "    fig, ax = plt.subplots()\r\n",
    "    ax.plot(data[[x_column_name]], [a + b[0, 0]*x for x in data[\"TEMP\"].to_numpy()], c='red')\r\n",
    "    ax.scatter(data[[x_column_name]], data[[y_column_name]])\r\n",
    "    \r\n",
    "    stringDate = datetime.datetime.today().strftime(\"%d-%m-%Y-%H-%M-%S\")\r\n",
    "    graph_name = f\"{stringDate}_mmq.png\"\r\n",
    "    fig.savefig(graph_name)\r\n",
    "\r\n",
    "    print(f\"O gráfico foi salvo em: {graph_name}\")\r\n",
    "\r\n",
    "    saveModel = input(\"Gostaria de salvar o modelo atual para uso futuro? (S/N): \")\r\n",
    "    if(saveModel == 'S'):\r\n",
    "        model_path = f\"model/{stringDate}_mmq_{x_column_name}_{y_column_name}.joblib\"\r\n",
    "        model_dump(model, model_path)\r\n",
    "        print(f\"Seu modelo foi salvo em {model_path}\")"
   ],
   "outputs": [],
   "metadata": {}
  },
  {
   "cell_type": "code",
   "execution_count": 59,
   "source": [
    "handle_mmq()"
   ],
   "outputs": [
    {
     "output_type": "stream",
     "name": "stdout",
     "text": [
      "Carregando dados...\n",
      "Treinando modelo...\n",
      "Treinamento finalizado...\n",
      "O valor do intecept (a) é 852.0743912040186\n",
      "O valor do coeficiente (b) é 30.126922146094504\n",
      "A fórmula para a regressão linear para x: TEMP e y: SLP é f(x)=852.0743912040186 + 30.126922146094504*x\n",
      "O gráfico foi salvo em: 31-07-2021-17-16-50_mmq.png\n"
     ]
    },
    {
     "output_type": "display_data",
     "data": {
      "text/plain": [
       "<Figure size 432x288 with 1 Axes>"
      ],
      "image/png": "[encoded data removed]"
     },
     "metadata": {
      "needs_background": "light"
     }
    }
   ],
   "metadata": {}
  },
  {
   "cell_type": "code",
   "execution_count": null,
   "source": [],
   "outputs": [],
   "metadata": {}
  },
  {
   "cell_type": "code",
   "execution_count": 62,
   "source": [
    "mmq[\"TEMP\"].to_numpy()"
   ],
   "outputs": [
    {
     "output_type": "execute_result",
     "data": {
      "text/plain": [
       "array([ -3.06,   3.28,   2.89, ...,   2.5 ,  12.33, -13.06])"
      ]
     },
     "metadata": {},
     "execution_count": 62
    }
   ],
   "metadata": {}
  },
  {
   "cell_type": "code",
   "execution_count": 71,
   "source": [
    "for field in df.schema.fields:\r\n",
    "    print(f\"{field.name} -> {field.dataType}\") "
   ],
   "outputs": [
    {
     "output_type": "stream",
     "name": "stdout",
     "text": [
      "STATION -> StringType\n",
      "DATE -> DateType\n",
      "LATITUDE -> FloatType\n",
      "LONGITUDE -> FloatType\n",
      "ELEVATION -> FloatType\n",
      "NAME -> StringType\n",
      "TEMP -> DoubleType\n",
      "TEMP_ATTRIBUTES -> IntegerType\n",
      "DEWP -> DoubleType\n",
      "DEWP_ATTRIBUTES -> IntegerType\n",
      "SLP -> DoubleType\n",
      "SLP_ATTRIBUTES -> IntegerType\n",
      "STP -> DoubleType\n",
      "STP_ATTRIBUTES -> IntegerType\n",
      "VISIB -> DoubleType\n",
      "VISIB_ATTRIBUTES -> IntegerType\n",
      "WDSP -> DoubleType\n",
      "WDSP_ATTRIBUTES -> IntegerType\n",
      "MXSPD -> DoubleType\n",
      "GUST -> DoubleType\n",
      "MAX -> DoubleType\n",
      "MAX_ATTRIBUTES -> FloatType\n",
      "MIN -> DoubleType\n",
      "MIN_ATTRIBUTES -> FloatType\n",
      "PRCP -> DoubleType\n",
      "PRCP_ATTRIBUTES -> StringType\n",
      "SNDP -> DoubleType\n",
      "FRSHTT -> StringType\n"
     ]
    }
   ],
   "metadata": {}
  },
  {
   "cell_type": "code",
   "execution_count": null,
   "source": [],
   "outputs": [],
   "metadata": {}
  },
  {
   "cell_type": "code",
   "execution_count": null,
   "source": [],
   "outputs": [],
   "metadata": {}
  },
  {
   "cell_type": "code",
   "execution_count": null,
   "source": [],
   "outputs": [],
   "metadata": {}
  },
  {
   "cell_type": "code",
   "execution_count": null,
   "source": [],
   "outputs": [],
   "metadata": {}
  },
  {
   "cell_type": "code",
   "execution_count": null,
   "source": [],
   "outputs": [],
   "metadata": {}
  },
  {
   "cell_type": "code",
   "execution_count": null,
   "source": [],
   "outputs": [],
   "metadata": {}
  },
  {
   "cell_type": "code",
   "execution_count": null,
   "source": [],
   "outputs": [],
   "metadata": {}
  },
  {
   "cell_type": "code",
   "execution_count": null,
   "source": [],
   "outputs": [],
   "metadata": {}
  },
  {
   "cell_type": "code",
   "execution_count": null,
   "source": [],
   "outputs": [],
   "metadata": {}
  },
  {
   "cell_type": "code",
   "execution_count": null,
   "source": [],
   "outputs": [],
   "metadata": {}
  },
  {
   "cell_type": "code",
   "execution_count": null,
   "source": [],
   "outputs": [],
   "metadata": {}
  },
  {
   "cell_type": "code",
   "execution_count": null,
   "source": [],
   "outputs": [],
   "metadata": {}
  },
  {
   "cell_type": "code",
   "execution_count": null,
   "source": [],
   "outputs": [],
   "metadata": {}
  },
  {
   "cell_type": "code",
   "execution_count": null,
   "source": [],
   "outputs": [],
   "metadata": {}
  }
 ],
 "metadata": {
  "orig_nbformat": 4,
  "language_info": {
   "name": "python",
   "version": "3.7.7",
   "mimetype": "text/x-python",
   "codemirror_mode": {
    "name": "ipython",
    "version": 3
   },
   "pygments_lexer": "ipython3",
   "nbconvert_exporter": "python",
   "file_extension": ".py"
  },
  "kernelspec": {
   "name": "python3",
   "display_name": "Python 3.7.7 64-bit"
  },
  "interpreter": {
   "hash": "0600588c3b5f4418cbe7b5ebc6825b479f3bc010269d8b60d75058cdd010adfe"
  }
 },
 "nbformat": 4,
 "nbformat_minor": 2
}